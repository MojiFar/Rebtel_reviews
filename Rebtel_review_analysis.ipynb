{
 "cells": [
  {
   "cell_type": "markdown",
   "metadata": {},
   "source": [
    "# Rebtel Sentiment analysis\n"
   ]
  },
  {
   "cell_type": "markdown",
   "metadata": {},
   "source": [
    "## 1. Scraping data from trustpilot"
   ]
  },
  {
   "cell_type": "markdown",
   "metadata": {},
   "source": [
    "I have extracted all the reviews including the name, title of the review, body of the review, rating, and also date and time from this page: https://www.trustpilot.com/review/www.rebtel.com"
   ]
  },
  {
   "cell_type": "code",
   "execution_count": 18,
   "metadata": {},
   "outputs": [],
   "source": [
    "from lxml import html\n",
    "from urllib3 import packages\n",
    "#from pip._vendor import requests\n",
    "from bs4 import BeautifulSoup\n",
    "import urllib3\n",
    "import pandas as pd\n",
    "import csv, os\n",
    "import numpy as np\n",
    "import seaborn as sns\n",
    "import matplotlib.pyplot as plt\n",
    "from sklearn.decomposition import PCA, TruncatedSVD\n",
    "import matplotlib\n",
    "import matplotlib.patches as mpatches"
   ]
  },
  {
   "cell_type": "code",
   "execution_count": 2,
   "metadata": {
    "collapsed": true
   },
   "outputs": [],
   "source": [
    "from lxml import html\n",
    "from urllib3 import packages\n",
    "from pip._vendor import requests\n",
    "from bs4 import BeautifulSoup\n",
    "import urllib3\n",
    "import pandas as pd\n",
    "import csv, os\n",
    "import numpy as np\n",
    "\n",
    "\n",
    "\n",
    "def Web_Scraper(page):\n",
    "    \n",
    "    quote_page = page\n",
    "    page = requests.get(quote_page ,verify=False, timeout=3)\n",
    "    soup = BeautifulSoup(page.content, \"lxml\")\n",
    "    A = []\n",
    "    Dataset = []\n",
    "    \n",
    "    # it finds the total number of pages in trustpilot\n",
    "    for line in soup.find_all('a', class_='pagination-page'):\n",
    "        A.append(line.text)\n",
    "        if line.text == \"Next page\":\n",
    "            NextPage = line.attrs['href']\n",
    "    Pages = int(A[-2])    \n",
    "    # it goes over all the pages one by one to get all the info for each review.\n",
    "    QuotePage = '/review/www.rebtel.com'\n",
    "    for counter in range(0,Pages):\n",
    "        page = requests.get(\"https://www.trustpilot.com\"+str(QuotePage),verify=False, timeout=20)\n",
    "        soup = BeautifulSoup(page.content, \"lxml\")\n",
    "        #print(counter)\n",
    "        # finding reviews-container since all the input located there\n",
    "        for row in soup.find_all('div', class_='reviews-container'):\n",
    "            AllReviews= row.find_all('div', class_='card')\n",
    "            for cells in row.find_all('div', class_='card'):\n",
    "                # finding customer name\n",
    "                Name = cells.find('h3', class_='consumer-info__details__name')\n",
    "                Name = Name.text.strip()\n",
    "                Review = cells.find('div', class_='review-info__header__verified')\n",
    "                # finding star review or rating\n",
    "                StarReview = Review.contents[1].attrs['class'][1]\n",
    "                StarReview = StarReview.split('-')[1]\n",
    "                # finding the title of the review\n",
    "                Title = cells.find('h2', class_='review-info__body__title')\n",
    "                Title = Title.text.strip()\n",
    "                # finding the body of the review\n",
    "                Body = cells.find('p', class_='review-info__body__text')\n",
    "                Body = Body.text.strip()\n",
    "                # finding the date and time\n",
    "                DateTime = cells.find('time', class_='ndate')\n",
    "                Date, Time = DateTime.attrs['datetime'].split('T')\n",
    "                Time = Time.split(\".\")\n",
    "                Time = Time[0]\n",
    "                OutCome = [Name, StarReview, Title,Body,Date, Time]\n",
    "                Dataset.append(OutCome)\n",
    "        # trigger for going to the next page\n",
    "        for line in soup.find_all('a', class_='pagination-page'):\n",
    "            if line.text == \"Next page\":\n",
    "                NextPage = line.attrs['href']\n",
    "                QuotePage = NextPage\n",
    "\n",
    "    df = pd.DataFrame(Dataset,  columns = ['Name','StarRating','Title','Body','Date', 'Time'])\n",
    "    df.to_csv('AllReviewsF.csv', sep = ',', encoding ='utf-8')\n",
    "#page = 'https://www.trustpilot.com/review/www.rebtel.com'\n",
    "#Web_Scraper(page)"
   ]
  },
  {
   "cell_type": "markdown",
   "metadata": {},
   "source": [
    "All data is stored in a csv file (AllReviews.csv)."
   ]
  },
  {
   "cell_type": "markdown",
   "metadata": {},
   "source": [
    "Reading all the data and I will drop Name, Data, and time from this dataset. However they can be used for vizualization."
   ]
  },
  {
   "cell_type": "code",
   "execution_count": 4,
   "metadata": {},
   "outputs": [],
   "source": [
    "df = pd.read_csv('AllReviews.csv')\n",
    "df.head(5)\n",
    "df = df.drop(['Name','Date','Time'], axis = 1)"
   ]
  },
  {
   "cell_type": "markdown",
   "metadata": {},
   "source": [
    "Visualizing the distribution of data for each class"
   ]
  },
  {
   "cell_type": "code",
   "execution_count": 216,
   "metadata": {},
   "outputs": [
    {
     "data": {
      "text/plain": [
       "<matplotlib.axes._subplots.AxesSubplot at 0x11367ed50>"
      ]
     },
     "execution_count": 216,
     "metadata": {},
     "output_type": "execute_result"
    },
    {
     "data": {
      "image/png": "[encoded data removed]",
      "text/plain": [
       "<matplotlib.figure.Figure at 0x11367e510>"
      ]
     },
     "metadata": {},
     "output_type": "display_data"
    }
   ],
   "source": [
    "import seaborn as sns\n",
    "import matplotlib.pyplot as plt\n",
    "plt.figure(figsize=(8, 6))\n",
    "plt.style.use('bmh')\n",
    "sns.countplot(x='StarRating', data=df)"
   ]
  },
  {
   "cell_type": "markdown",
   "metadata": {},
   "source": [
    "As shown above, this data is imbalanced."
   ]
  },
  {
   "cell_type": "markdown",
   "metadata": {},
   "source": [
    "## 2. Cleaning reviews from stop words"
   ]
  },
  {
   "cell_type": "markdown",
   "metadata": {},
   "source": [
    "#### Removing all the stop words and punctuations from dataset and creating corpus which contains stem of the words. "
   ]
  },
  {
   "cell_type": "code",
   "execution_count": 5,
   "metadata": {
    "collapsed": true
   },
   "outputs": [],
   "source": [
    "from nltk.corpus import stopwords\n",
    "from nltk.stem.porter import PorterStemmer\n",
    "import re\n",
    "import nltk\n",
    "\n",
    "\n",
    "def Stop_word(df):\n",
    "    corpus = []\n",
    "    for row in df.T.iteritems(): \n",
    "        row = ' '.join(map(str,row))\n",
    "        review = re.sub('[^A-Za-z0-9]',' ', row)\n",
    "        review = re.sub (',', ' ', review)\n",
    "        review = re.sub (';',' ', review)\n",
    "        review = re.sub ('\"',' ', review)\n",
    "        review = re.sub ('Unname',' ', review)\n",
    "        review = review.lower()\n",
    "        review = review.split()\n",
    "        ps = PorterStemmer()\n",
    "        stop_words = set(stopwords.words('english'))\n",
    "        stop_words.update(['null' , 'name' , 'dtype','object',\n",
    "                           'rebtel','unname','starrating','unname', 'body',\n",
    "                           'nan','title', '1', '0'])\n",
    "        review = [ps.stem(word) for word in review if not word in stop_words]\n",
    "        review = ' '.join(review)\n",
    "        corpus.append(review)\n",
    "    return corpus"
   ]
  },
  {
   "cell_type": "markdown",
   "metadata": {},
   "source": [
    "### Visualizing the most frequent words in the reviews:"
   ]
  },
  {
   "cell_type": "code",
   "execution_count": 6,
   "metadata": {},
   "outputs": [
    {
     "name": "stdout",
     "output_type": "stream",
     "text": [
      "Select 1 (very bad), or 2 (bad),or 3 (neutral), or 4 (good),or 5 (very good) star reviews?1\n",
      "How many most common words to print: 10\n",
      "\n",
      "OK. The 10 most frequent words are as follows\n",
      "\n",
      "(u'call', ': ', 155)\n",
      "(u'servic', ': ', 141)\n",
      "(u'use', ': ', 96)\n",
      "(u'custom', ': ', 85)\n",
      "(u'worst', ': ', 60)\n",
      "(u'bad', ': ', 56)\n",
      "(u'charg', ': ', 51)\n",
      "(u'compani', ': ', 44)\n",
      "('app', ': ', 43)\n",
      "(u'make', ': ', 37)\n"
     ]
    },
    {
     "data": {
      "image/png": "[encoded data removed]",
      "text/plain": [
       "<Figure size 432x288 with 1 Axes>"
      ]
     },
     "metadata": {},
     "output_type": "display_data"
    }
   ],
   "source": [
    "import collections\n",
    "import pandas as pd\n",
    "import matplotlib.pyplot as plt\n",
    "%matplotlib inline\n",
    "\n",
    "def word_counter(df):\n",
    "    # the most frequent words in bad reviews with 1 star\n",
    "    rate_print = int(input(\"Select 1 (very bad), or 2 (bad),or 3 (neutral), or 4 (good),or 5 (very good) star reviews?\"))\n",
    "    df_review = df[df.StarRating == rate_print]\n",
    "    NewDf = df_review[['Title','Body']].copy()  \n",
    "    corpus_bad = Stop_word(NewDf)\n",
    "    wordcount = {}\n",
    "    for item in corpus_bad: \n",
    "        for word in item.lower().split():\n",
    "            if word not in wordcount:\n",
    "                wordcount[word] = 1\n",
    "            else:\n",
    "                wordcount[word] += 1\n",
    "    # Print the most common words please note that the root of words are extracted\n",
    "    n_print = int(input(\"How many most common words to print: \"))\n",
    "    print(\"\\nOK. The {} most frequent words are as follows\\n\".format(n_print))\n",
    "    word_counter = collections.Counter(wordcount)\n",
    "    for word, count in word_counter.most_common(n_print):\n",
    "        print(word, \": \", count)\n",
    "    # Create a data frame of the most common words \n",
    "    # Draw a bar chart\n",
    "    lst = word_counter.most_common(n_print)\n",
    "    df_counter = pd.DataFrame(lst, columns = ['Word', 'Count'])\n",
    "    df_counter.plot.barh(x='Word',y='Count', color = 'green')\n",
    " \n",
    "word_counter(df)  "
   ]
  },
  {
   "cell_type": "markdown",
   "metadata": {},
   "source": [
    "## 3. Classification\n",
    "### 3.1. classificaiton without up or down-sampling."
   ]
  },
  {
   "cell_type": "markdown",
   "metadata": {},
   "source": [
    "Choosing our classifier and Grid search over hyper parameters"
   ]
  },
  {
   "cell_type": "code",
   "execution_count": 9,
   "metadata": {},
   "outputs": [
    {
     "name": "stderr",
     "output_type": "stream",
     "text": [
      "/Users/mojtaba/anaconda2/lib/python2.7/site-packages/sklearn/cross_validation.py:41: DeprecationWarning: This module was deprecated in version 0.18 in favor of the model_selection module into which all the refactored classes and functions are moved. Also note that the interface of the new CV iterators are different from that of this module. This module will be removed in 0.20.\n",
      "  \"This module will be removed in 0.20.\", DeprecationWarning)\n"
     ]
    }
   ],
   "source": [
    "from sklearn.pipeline import make_pipeline\n",
    "from sklearn.feature_extraction.text import TfidfVectorizer, CountVectorizer, TfidfTransformer\n",
    "from sklearn.linear_model import SGDClassifier\n",
    "from sklearn.model_selection import GridSearchCV, cross_val_score, KFold\n",
    "from sklearn.cross_validation import train_test_split\n",
    "from sklearn.pipeline import Pipeline\n",
    "from time import time\n",
    "from sklearn.metrics import accuracy_score, confusion_matrix, accuracy_score,classification_report\n",
    "\n",
    "\n",
    "def HyperParamGS(X_train,y_train):\n",
    "    pipeline = Pipeline([\n",
    "               ('vect', CountVectorizer(ngram_range=(1,3)) ),\n",
    "               ('tfidf', TfidfTransformer()),\n",
    "               ('clf', SGDClassifier(max_iter=1000, tol = 0)),\n",
    "                ])\n",
    "\n",
    "    parameters = {\n",
    "              'vect__max_df': (0.5, 0.75, 1.0),\n",
    "              'vect__ngram_range': [(1,1), (1,2)],\n",
    "              #'tfidf__norm': ('l1', 'l2', None),\n",
    "              'tfidf__use_idf': (True, False),\n",
    "              'clf__loss': ('log','modified_huber','hinge'),\n",
    "              'clf__penalty':('l2','elasticnet'),\n",
    "              'clf__alpha': (0.00001, 0.000001),\n",
    "              'clf__class_weight': (None, 'balanced'),\n",
    "             }\n",
    "\n",
    "    gs_clf = GridSearchCV(estimator=pipeline, param_grid=parameters, \n",
    "                          n_jobs=-1, verbose=1, cv = 5)\n",
    "    \n",
    "    print(\"Performing grid search...\")\n",
    "    print(\"pipeline:\", [name for name, _ in pipeline.steps])\n",
    "    print(\"parameters:\")\n",
    "    print(parameters)\n",
    "    t0 = time()\n",
    "    gs_clf.fit(X_train, y_train)\n",
    "    print(\"done in %0.3fs\" % (time() - t0))\n",
    "    print()\n",
    "    return gs_clf, parameters\n",
    "\n",
    "def model_result(gs_clf, X_test, y_test, parameters):\n",
    "    print(\"Best score: %0.3f\" % gs_clf.best_score_)\n",
    "    print(\"Best parameters set:\")\n",
    "    best_parameters = gs_clf.best_estimator_.get_params()\n",
    "    for param_name in sorted(parameters.keys()):\n",
    "        print(\"\\t%s: %r\" % (param_name, best_parameters[param_name]))    \n",
    "    #### Cross-validation to check the test set error rate\n",
    "    scores = cross_val_score(gs_clf, X_train, y_train, scoring='neg_mean_absolute_error')\n",
    "    print(scores)\n",
    "    ## Predicting the test set results\n",
    "    y_pred = gs_clf.predict(X_test)\n",
    "    print(\"The accuracy score of {0}\".format(accuracy_score(y_test, y_pred)))\n",
    "    print ('Confusion Matrix:')\n",
    "    # Confustion matrix\n",
    "    print (confusion_matrix(y_test, y_pred))\n",
    "    print (accuracy_score(y_test, y_pred))\n",
    "    # Classification report with precision and recall\n",
    "    print (classification_report(y_test, y_pred))\n",
    "    return y_pred\n",
    "\n"
   ]
  },
  {
   "cell_type": "markdown",
   "metadata": {},
   "source": [
    "Combining the title and body of reviews and spliting the data into training and test set"
   ]
  },
  {
   "cell_type": "code",
   "execution_count": 17,
   "metadata": {
    "collapsed": true,
    "scrolled": true
   },
   "outputs": [],
   "source": [
    "NewDf = df[['Title','Body']].copy()\n",
    "X = Stop_word(NewDf)\n",
    "y = df.iloc[:,1].values\n",
    "X_train, X_test, y_train, y_test = train_test_split(X, y, test_size = 0.30, random_state = 0)"
   ]
  },
  {
   "cell_type": "code",
   "execution_count": 418,
   "metadata": {},
   "outputs": [
    {
     "name": "stdout",
     "output_type": "stream",
     "text": [
      "Performing grid search...\n",
      "('pipeline:', ['vect', 'tfidf', 'clf'])\n",
      "parameters:\n",
      "{'vect__ngram_range': [(1, 1), (1, 2)], 'vect__max_df': (0.5, 0.75, 1.0), 'clf__loss': ('log', 'modified_huber', 'hinge'), 'tfidf__use_idf': (True, False), 'clf__penalty': ('l2', 'elasticnet'), 'clf__class_weight': (None, 'balanced'), 'clf__alpha': (1e-05, 1e-06)}\n",
      "Fitting 5 folds for each of 288 candidates, totalling 1440 fits\n"
     ]
    },
    {
     "name": "stderr",
     "output_type": "stream",
     "text": [
      "[Parallel(n_jobs=-1)]: Done  34 tasks      | elapsed:    1.3s\n",
      "[Parallel(n_jobs=-1)]: Done 184 tasks      | elapsed:    7.0s\n",
      "[Parallel(n_jobs=-1)]: Done 434 tasks      | elapsed:   16.1s\n",
      "[Parallel(n_jobs=-1)]: Done 784 tasks      | elapsed:   29.9s\n",
      "[Parallel(n_jobs=-1)]: Done 1234 tasks      | elapsed:   48.1s\n",
      "[Parallel(n_jobs=-1)]: Done 1440 out of 1440 | elapsed:   56.5s finished\n"
     ]
    },
    {
     "name": "stdout",
     "output_type": "stream",
     "text": [
      "done in 56.893s\n",
      "()\n",
      "Best score: 0.582\n",
      "Best parameters set:\n",
      "\tclf__alpha: 1e-05\n",
      "\tclf__class_weight: None\n",
      "\tclf__loss: 'log'\n",
      "\tclf__penalty: 'elasticnet'\n",
      "\ttfidf__use_idf: True\n",
      "\tvect__max_df: 0.75\n",
      "\tvect__ngram_range: (1, 2)\n",
      "Fitting 5 folds for each of 288 candidates, totalling 1440 fits\n"
     ]
    },
    {
     "name": "stderr",
     "output_type": "stream",
     "text": [
      "[Parallel(n_jobs=-1)]: Done  56 tasks      | elapsed:    2.3s\n",
      "[Parallel(n_jobs=-1)]: Done 356 tasks      | elapsed:   10.3s\n",
      "[Parallel(n_jobs=-1)]: Done 856 tasks      | elapsed:   24.0s\n",
      "[Parallel(n_jobs=-1)]: Done 1440 out of 1440 | elapsed:   39.7s finished\n"
     ]
    },
    {
     "name": "stdout",
     "output_type": "stream",
     "text": [
      "Fitting 5 folds for each of 288 candidates, totalling 1440 fits\n"
     ]
    },
    {
     "name": "stderr",
     "output_type": "stream",
     "text": [
      "[Parallel(n_jobs=-1)]: Done  52 tasks      | elapsed:    1.7s\n",
      "[Parallel(n_jobs=-1)]: Done 352 tasks      | elapsed:    9.7s\n",
      "[Parallel(n_jobs=-1)]: Done 852 tasks      | elapsed:   23.7s\n",
      "[Parallel(n_jobs=-1)]: Done 1440 out of 1440 | elapsed:   39.4s finished\n"
     ]
    },
    {
     "name": "stdout",
     "output_type": "stream",
     "text": [
      "Fitting 5 folds for each of 288 candidates, totalling 1440 fits\n"
     ]
    },
    {
     "name": "stderr",
     "output_type": "stream",
     "text": [
      "[Parallel(n_jobs=-1)]: Done  72 tasks      | elapsed:    2.1s\n",
      "[Parallel(n_jobs=-1)]: Done 372 tasks      | elapsed:   10.4s\n",
      "[Parallel(n_jobs=-1)]: Done 872 tasks      | elapsed:   23.6s\n",
      "[Parallel(n_jobs=-1)]: Done 1440 out of 1440 | elapsed:   39.2s finished\n"
     ]
    },
    {
     "name": "stdout",
     "output_type": "stream",
     "text": [
      "[-0.77 -0.75 -0.73]\n",
      "The accuracy score of 0.60097323601\n",
      "Confusion Matrix:\n",
      "[[108   7   8   8  31]\n",
      " [ 20   4   3   3  16]\n",
      " [ 10   0  13  22  32]\n",
      " [  9   3   5  35 102]\n",
      " [  8   1   4  36 334]]\n",
      "0.60097323601\n",
      "             precision    recall  f1-score   support\n",
      "\n",
      "          1       0.70      0.67      0.68       162\n",
      "          2       0.27      0.09      0.13        46\n",
      "          3       0.39      0.17      0.24        77\n",
      "          4       0.34      0.23      0.27       154\n",
      "          5       0.65      0.87      0.74       383\n",
      "\n",
      "avg / total       0.55      0.60      0.56       822\n",
      "\n"
     ]
    }
   ],
   "source": [
    "trained_model, parameters = HyperParamGS(X_train,y_train)\n",
    "y_pred = model_result(trained_model, X_test, y_test, parameters)"
   ]
  },
  {
   "cell_type": "markdown",
   "metadata": {},
   "source": [
    "#### Confusion matrix"
   ]
  },
  {
   "cell_type": "code",
   "execution_count": 421,
   "metadata": {},
   "outputs": [
    {
     "name": "stdout",
     "output_type": "stream",
     "text": [
      "Confusion matrix, without normalization\n",
      "[[108   7   8   8  31]\n",
      " [ 20   4   3   3  16]\n",
      " [ 10   0  13  22  32]\n",
      " [  9   3   5  35 102]\n",
      " [  8   1   4  36 334]]\n"
     ]
    },
    {
     "data": {
      "image/png": "[encoded data removed]",
      "text/plain": [
       "<matplotlib.figure.Figure at 0x11f1e9c90>"
      ]
     },
     "metadata": {},
     "output_type": "display_data"
    }
   ],
   "source": [
    "# Compute confusion matrix\n",
    "cnf_matrix = confusion_matrix(y_test, y_pred)\n",
    "np.set_printoptions(precision=2)\n",
    "\n",
    "# Plot non-normalized confusion matrix\n",
    "plt.figure()\n",
    "plot_confusion_matrix(cnf_matrix, classes= ['1','2','3','4','5'],\n",
    "                      title='Confusion matrix')\n",
    "\n",
    "plt.show()"
   ]
  },
  {
   "cell_type": "markdown",
   "metadata": {},
   "source": [
    "### 3.2. Classification with up-sampling:\n",
    "I will use the balanced data to train my model then I will use the imbalanced data to test my model."
   ]
  },
  {
   "cell_type": "markdown",
   "metadata": {},
   "source": [
    "#### Up sampling with SMOTE and Random over-sampling.\n",
    "imblanaced-learn is available via:\n",
    "pip install -U imbalanced-learn or\n",
    "conda install -c glemaitre imbalanced-learn\n"
   ]
  },
  {
   "cell_type": "code",
   "execution_count": 7,
   "metadata": {
    "collapsed": true
   },
   "outputs": [],
   "source": [
    "from imblearn.under_sampling import RandomUnderSampler\n",
    "from imblearn.over_sampling import RandomOverSampler\n",
    "from imblearn.pipeline import Pipeline\n",
    "from imblearn import pipeline as pl\n",
    "from imblearn import over_sampling as os\n",
    "\n",
    "\n",
    "def HyperParamGSOV(X,y):\n",
    "    X_train, X_test, y_train, y_test = train_test_split(X, y, test_size = 0.30, random_state = 0)\n",
    "    #ros = os.SMOTE(random_state=0)\n",
    "    ros = RandomOverSampler(random_state = 0)\n",
    "    pipeline = Pipeline([\n",
    "               ('vect', CountVectorizer(ngram_range=(1,3)) ),\n",
    "               ('tfidf', TfidfTransformer()),\n",
    "               ('OvSam', ros),\n",
    "               ('clf', SGDClassifier(max_iter=1000, tol = 0)),\n",
    "                ])\n",
    "\n",
    "    parameters = {\n",
    "              'vect__max_df': (0.5, 0.75, 1.0),\n",
    "              'vect__ngram_range': [(1,1), (1,2)],\n",
    "              #'tfidf__norm': ('l1', 'l2', None),\n",
    "              'tfidf__use_idf': (True, False),\n",
    "              'clf__loss': ('log','modified_huber','hinge'),\n",
    "              'clf__penalty':('l2','elasticnet'),\n",
    "              'clf__alpha': (0.00001, 0.000001),\n",
    "              'clf__class_weight': (None, 'balanced'),\n",
    "             }\n",
    "\n",
    "    gs_clf = GridSearchCV(estimator=pipeline, param_grid=parameters, \n",
    "                          n_jobs=-1, verbose=1, cv = 5)\n",
    "    \n",
    "    print(\"Performing grid search...\")\n",
    "    print(\"pipeline:\", [name for name, _ in pipeline.steps])\n",
    "    print(\"parameters:\")\n",
    "    print(parameters)\n",
    "    t0 = time()\n",
    "    gs_clf.fit(X_train, y_train)\n",
    "    print(\"done in %0.3fs\" % (time() - t0))\n",
    "    print()\n",
    "    print(\"Best score: %0.3f\" % gs_clf.best_score_)\n",
    "    print(\"Best parameters set:\")\n",
    "    best_parameters = gs_clf.best_estimator_.get_params()\n",
    "    for param_name in sorted(parameters.keys()):\n",
    "        print(\"\\t%s: %r\" % (param_name, best_parameters[param_name]))    \n",
    "        #### Cross-validation to check the test set error rate\n",
    "    scores = cross_val_score(gs_clf, X_train, y_train, scoring='neg_mean_absolute_error')\n",
    "    print(scores)\n",
    "    ## Predicting the test set results\n",
    "    y_pred = gs_clf.predict(X_test)\n",
    "    \n",
    "    print(\"The accuracy score of {0}\".format(accuracy_score(y_test, y_pred)))\n",
    "    print ('Confusion Matrix:')\n",
    "    print (confusion_matrix(y_test, y_pred))\n",
    "    print (accuracy_score(y_test, y_pred))\n",
    "    print (classification_report(y_test, y_pred))\n",
    "    \n",
    "    return y_test, y_pred\n"
   ]
  },
  {
   "cell_type": "code",
   "execution_count": 465,
   "metadata": {},
   "outputs": [
    {
     "name": "stdout",
     "output_type": "stream",
     "text": [
      "Performing grid search...\n",
      "('pipeline:', ['vect', 'tfidf', 'OvSam', 'clf'])\n",
      "parameters:\n",
      "{'vect__ngram_range': [(1, 1), (1, 2)], 'vect__max_df': (0.5, 0.75, 1.0), 'clf__loss': ('log', 'modified_huber', 'hinge'), 'tfidf__use_idf': (True, False), 'clf__penalty': ('l2', 'elasticnet'), 'clf__class_weight': (None, 'balanced'), 'clf__alpha': (1e-05, 1e-06)}\n",
      "Fitting 5 folds for each of 288 candidates, totalling 1440 fits\n"
     ]
    },
    {
     "name": "stderr",
     "output_type": "stream",
     "text": [
      "[Parallel(n_jobs=-1)]: Done  52 tasks      | elapsed:    2.2s\n",
      "[Parallel(n_jobs=-1)]: Done 352 tasks      | elapsed:   15.0s\n",
      "[Parallel(n_jobs=-1)]: Done 852 tasks      | elapsed:   37.3s\n",
      "[Parallel(n_jobs=-1)]: Done 1440 out of 1440 | elapsed:  1.1min finished\n"
     ]
    },
    {
     "name": "stdout",
     "output_type": "stream",
     "text": [
      "done in 64.990s\n",
      "()\n",
      "Best score: 0.584\n",
      "Best parameters set:\n",
      "\tclf__alpha: 1e-05\n",
      "\tclf__class_weight: 'balanced'\n",
      "\tclf__loss: 'modified_huber'\n",
      "\tclf__penalty: 'elasticnet'\n",
      "\ttfidf__use_idf: False\n",
      "\tvect__max_df: 0.5\n",
      "\tvect__ngram_range: (1, 2)\n",
      "Fitting 5 folds for each of 288 candidates, totalling 1440 fits\n"
     ]
    },
    {
     "name": "stderr",
     "output_type": "stream",
     "text": [
      "[Parallel(n_jobs=-1)]: Done  34 tasks      | elapsed:    1.5s\n",
      "[Parallel(n_jobs=-1)]: Done 184 tasks      | elapsed:    6.7s\n",
      "[Parallel(n_jobs=-1)]: Done 434 tasks      | elapsed:   15.4s\n",
      "[Parallel(n_jobs=-1)]: Done 784 tasks      | elapsed:   27.4s\n",
      "[Parallel(n_jobs=-1)]: Done 1234 tasks      | elapsed:   43.0s\n",
      "[Parallel(n_jobs=-1)]: Done 1440 out of 1440 | elapsed:   50.1s finished\n"
     ]
    },
    {
     "name": "stdout",
     "output_type": "stream",
     "text": [
      "Fitting 5 folds for each of 288 candidates, totalling 1440 fits\n"
     ]
    },
    {
     "name": "stderr",
     "output_type": "stream",
     "text": [
      "[Parallel(n_jobs=-1)]: Done  60 tasks      | elapsed:    2.2s\n",
      "[Parallel(n_jobs=-1)]: Done 360 tasks      | elapsed:   11.4s\n",
      "[Parallel(n_jobs=-1)]: Done 860 tasks      | elapsed:   27.4s\n",
      "[Parallel(n_jobs=-1)]: Done 1440 out of 1440 | elapsed:   45.7s finished\n"
     ]
    },
    {
     "name": "stdout",
     "output_type": "stream",
     "text": [
      "Fitting 5 folds for each of 288 candidates, totalling 1440 fits\n"
     ]
    },
    {
     "name": "stderr",
     "output_type": "stream",
     "text": [
      "[Parallel(n_jobs=-1)]: Done  60 tasks      | elapsed:    2.0s\n",
      "[Parallel(n_jobs=-1)]: Done 360 tasks      | elapsed:   11.6s\n",
      "[Parallel(n_jobs=-1)]: Done 860 tasks      | elapsed:   27.2s\n",
      "[Parallel(n_jobs=-1)]: Done 1440 out of 1440 | elapsed:   45.6s finished\n"
     ]
    },
    {
     "name": "stdout",
     "output_type": "stream",
     "text": [
      "[-0.76 -0.77 -0.78]\n",
      "The accuracy score of 0.599756690998\n",
      "Confusion Matrix:\n",
      "[[109   5   6  11  31]\n",
      " [ 22   3   3   2  16]\n",
      " [ 11   2  12  17  35]\n",
      " [  9   1   8  40  96]\n",
      " [ 13   0   6  35 329]]\n",
      "0.599756690998\n",
      "             precision    recall  f1-score   support\n",
      "\n",
      "          1       0.66      0.67      0.67       162\n",
      "          2       0.27      0.07      0.11        46\n",
      "          3       0.34      0.16      0.21        77\n",
      "          4       0.38      0.26      0.31       154\n",
      "          5       0.65      0.86      0.74       383\n",
      "\n",
      "avg / total       0.55      0.60      0.56       822\n",
      "\n"
     ]
    }
   ],
   "source": [
    "X = Stop_word(NewDf)\n",
    "y = df.iloc[:,1].values\n",
    "y_ov_test, y_ov_pred = HyperParamGSOV(X,y)"
   ]
  },
  {
   "cell_type": "code",
   "execution_count": 452,
   "metadata": {},
   "outputs": [
    {
     "name": "stdout",
     "output_type": "stream",
     "text": [
      "Confusion matrix, without normalization\n",
      "[[114  11   8   8  21]\n",
      " [ 22   6   5   2  11]\n",
      " [ 12   2  19  19  25]\n",
      " [  7   6   5  45  91]\n",
      " [ 13   1   8  43 318]]\n"
     ]
    },
    {
     "data": {
      "image/png": "[encoded data removed]",
      "text/plain": [
       "<matplotlib.figure.Figure at 0x11f1a5e10>"
      ]
     },
     "metadata": {},
     "output_type": "display_data"
    }
   ],
   "source": [
    "# Compute confusion matrix\n",
    "cnf_matrix = confusion_matrix(y_ov_test, y_ov_pred)\n",
    "np.set_printoptions(precision=2)\n",
    "plt.figure()\n",
    "plot_confusion_matrix(cnf_matrix, classes= ['1','2','3','4','5'],\n",
    "                      title='Confusion matrix')\n",
    "plt.show()"
   ]
  },
  {
   "cell_type": "markdown",
   "metadata": {
    "collapsed": true
   },
   "source": [
    "### 3.2. Classificaiton with combination of up-down sampling with SMOTETomek\n"
   ]
  },
  {
   "cell_type": "markdown",
   "metadata": {},
   "source": [
    "Grid search over hyper parameters with SMOTETomek"
   ]
  },
  {
   "cell_type": "code",
   "execution_count": 25,
   "metadata": {
    "collapsed": true
   },
   "outputs": [],
   "source": [
    "from imblearn.pipeline import Pipeline\n",
    "def HyperParamSGD_sampled(X,y):\n",
    "    X_train, X_test, y_train, y_test = train_test_split(X, y, test_size = 0.30, random_state = 0)\n",
    "    smote = SMOTETomek(random_state = 0)\n",
    "    #smote = SMOTEENN(random_state = 0)\n",
    "    pipeline = Pipeline([\n",
    "               ('vect', CountVectorizer()),\n",
    "               ('tfidf', TfidfTransformer()),\n",
    "               ('smote', smote),\n",
    "               ('clf', SGDClassifier(max_iter=1000, tol = 0)),\n",
    "                ])\n",
    "\n",
    "    parameters = {\n",
    "              'vect__max_df': (0.5, 0.75, 1.0),\n",
    "              'vect__ngram_range': [(1,1), (1,2)],\n",
    "              #'tfidf__norm': ('l1', 'l2', None),\n",
    "              'tfidf__use_idf': (True, False),\n",
    "              'clf__loss': ('log','modified_huber','hinge'),\n",
    "              'clf__penalty':('l2','elasticnet'),\n",
    "              'clf__alpha': (0.00001, 0.000001),\n",
    "              'clf__class_weight': (None, 'balanced'),\n",
    "             }\n",
    "\n",
    "    gs_clf = GridSearchCV(estimator=pipeline, param_grid=parameters, \n",
    "                          n_jobs=-1, verbose=1, cv = 5)\n",
    "    \n",
    "    print(\"Performing grid search...\")\n",
    "    print(\"pipeline:\", [name for name, _ in pipeline.steps])\n",
    "    print(\"parameters:\")\n",
    "    print(parameters)\n",
    "    t0 = time()\n",
    "    gs_clf.fit(X_train, y_train)\n",
    "    print(\"done in %0.3fs\" % (time() - t0))\n",
    "    print()\n",
    "\n",
    "    print(\"Best score: %0.3f\" % gs_clf.best_score_)\n",
    "    print(\"Best parameters set:\")\n",
    "    best_parameters = gs_clf.best_estimator_.get_params()\n",
    "    for param_name in sorted(parameters.keys()):\n",
    "        print(\"\\t%s: %r\" % (param_name, best_parameters[param_name]))\n",
    "        \n",
    "        #### Cross-validation to check the test set error rate\n",
    "    scores = cross_val_score(gs_clf, X_train, y_train, scoring='neg_mean_absolute_error')\n",
    "    print(scores)\n",
    "    \n",
    "    \n",
    "    ## Predicting the test set results\n",
    "    y_pred = gs_clf.predict(X_test)\n",
    "    \n",
    "    print(\"The accuracy score of {0}\".format(accuracy_score(y_test, y_pred)))\n",
    "    print ('Confusion Matrix:')\n",
    "    print (confusion_matrix(y_test, y_pred))\n",
    "    print (accuracy_score(y_test, y_pred))\n",
    "    print (classification_report(y_test, y_pred))\n",
    "    return y_test, y_pred"
   ]
  },
  {
   "cell_type": "code",
   "execution_count": 230,
   "metadata": {
    "scrolled": true
   },
   "outputs": [
    {
     "name": "stdout",
     "output_type": "stream",
     "text": [
      "Performing grid search...\n",
      "('pipeline:', ['vect', 'tfidf', 'smote', 'clf'])\n",
      "parameters:\n",
      "{'vect__ngram_range': [(1, 1), (1, 2)], 'vect__max_df': (0.5, 0.75, 1.0), 'clf__loss': ('log', 'modified_huber', 'hinge'), 'tfidf__use_idf': (True, False), 'clf__penalty': ('l2', 'elasticnet'), 'clf__class_weight': (None, 'balanced'), 'clf__alpha': (1e-05, 1e-06)}\n",
      "Fitting 5 folds for each of 288 candidates, totalling 1440 fits\n"
     ]
    },
    {
     "name": "stderr",
     "output_type": "stream",
     "text": [
      "[Parallel(n_jobs=-1)]: Done  34 tasks      | elapsed:   22.2s\n",
      "[Parallel(n_jobs=-1)]: Done 184 tasks      | elapsed:  1.8min\n",
      "[Parallel(n_jobs=-1)]: Done 434 tasks      | elapsed:  4.4min\n",
      "[Parallel(n_jobs=-1)]: Done 784 tasks      | elapsed:  7.6min\n",
      "[Parallel(n_jobs=-1)]: Done 1234 tasks      | elapsed: 11.8min\n",
      "[Parallel(n_jobs=-1)]: Done 1440 out of 1440 | elapsed: 13.6min finished\n"
     ]
    },
    {
     "name": "stdout",
     "output_type": "stream",
     "text": [
      "done in 821.451s\n",
      "()\n",
      "Best score: 0.581\n",
      "Best parameters set:\n",
      "\tclf__alpha: 1e-05\n",
      "\tclf__class_weight: None\n",
      "\tclf__loss: 'log'\n",
      "\tclf__penalty: 'l2'\n",
      "\ttfidf__use_idf: True\n",
      "\tvect__max_df: 0.75\n",
      "\tvect__ngram_range: (1, 2)\n",
      "Fitting 5 folds for each of 288 candidates, totalling 1440 fits\n"
     ]
    },
    {
     "name": "stderr",
     "output_type": "stream",
     "text": [
      "[Parallel(n_jobs=-1)]: Done  34 tasks      | elapsed:   14.0s\n",
      "[Parallel(n_jobs=-1)]: Done 184 tasks      | elapsed:  1.1min\n",
      "[Parallel(n_jobs=-1)]: Done 434 tasks      | elapsed:  2.6min\n",
      "[Parallel(n_jobs=-1)]: Done 784 tasks      | elapsed:  4.7min\n",
      "[Parallel(n_jobs=-1)]: Done 1234 tasks      | elapsed:  7.3min\n",
      "[Parallel(n_jobs=-1)]: Done 1440 out of 1440 | elapsed:  8.5min finished\n"
     ]
    },
    {
     "name": "stdout",
     "output_type": "stream",
     "text": [
      "Fitting 5 folds for each of 288 candidates, totalling 1440 fits\n"
     ]
    },
    {
     "name": "stderr",
     "output_type": "stream",
     "text": [
      "[Parallel(n_jobs=-1)]: Done  34 tasks      | elapsed:   14.6s\n",
      "[Parallel(n_jobs=-1)]: Done 184 tasks      | elapsed:  1.1min\n",
      "[Parallel(n_jobs=-1)]: Done 434 tasks      | elapsed:  2.6min\n",
      "[Parallel(n_jobs=-1)]: Done 784 tasks      | elapsed:  4.7min\n",
      "[Parallel(n_jobs=-1)]: Done 1234 tasks      | elapsed:  7.4min\n",
      "[Parallel(n_jobs=-1)]: Done 1440 out of 1440 | elapsed:  8.6min finished\n"
     ]
    },
    {
     "name": "stdout",
     "output_type": "stream",
     "text": [
      "Fitting 5 folds for each of 288 candidates, totalling 1440 fits\n"
     ]
    },
    {
     "name": "stderr",
     "output_type": "stream",
     "text": [
      "[Parallel(n_jobs=-1)]: Done  34 tasks      | elapsed:   14.4s\n",
      "[Parallel(n_jobs=-1)]: Done 184 tasks      | elapsed:  1.1min\n",
      "[Parallel(n_jobs=-1)]: Done 434 tasks      | elapsed:  2.6min\n",
      "[Parallel(n_jobs=-1)]: Done 784 tasks      | elapsed:  4.7min\n",
      "[Parallel(n_jobs=-1)]: Done 1234 tasks      | elapsed:  7.3min\n",
      "[Parallel(n_jobs=-1)]: Done 1440 out of 1440 | elapsed:  8.6min finished\n"
     ]
    },
    {
     "name": "stdout",
     "output_type": "stream",
     "text": [
      "[-0.75 -0.84 -0.77]\n",
      "The accuracy score of 0.605839416058\n",
      "Confusion Matrix:\n",
      "[[114  11   9   7  21]\n",
      " [ 23   6   5   3   9]\n",
      " [ 10   1  19  21  26]\n",
      " [  8   5   7  46  88]\n",
      " [ 15   2   7  46 313]]\n",
      "0.605839416058\n",
      "             precision    recall  f1-score   support\n",
      "\n",
      "          1       0.67      0.70      0.69       162\n",
      "          2       0.24      0.13      0.17        46\n",
      "          3       0.40      0.25      0.31        77\n",
      "          4       0.37      0.30      0.33       154\n",
      "          5       0.68      0.82      0.75       383\n",
      "\n",
      "avg / total       0.57      0.61      0.58       822\n",
      "\n"
     ]
    }
   ],
   "source": [
    "X = Stop_word(NewDf)\n",
    "y = df.iloc[:,1].values\n",
    "y_smote_test, y_smote_pred = HyperParamSGD_sampled(X,y)"
   ]
  },
  {
   "cell_type": "markdown",
   "metadata": {
    "collapsed": true
   },
   "source": [
    "### Confusion matrix:\n",
    "This function plots the confusion matrix:"
   ]
  },
  {
   "cell_type": "code",
   "execution_count": 29,
   "metadata": {
    "collapsed": true
   },
   "outputs": [],
   "source": [
    "import itertools\n",
    "def plot_confusion_matrix(cm, classes,\n",
    "                          normalize=False,\n",
    "                          title='Confusion matrix',\n",
    "                          cmap=plt.cm.Blues):\n",
    "    \"\"\"\n",
    "    This function prints and plots the confusion matrix.\n",
    "    Normalization can be applied by setting `normalize=True`.\n",
    "    \"\"\"\n",
    "    if normalize:\n",
    "        cm = cm.astype('float') / cm.sum(axis=1)[:, np.newaxis]\n",
    "        print(\"Normalized confusion matrix\")\n",
    "    else:\n",
    "        print('Confusion matrix, without normalization')\n",
    "\n",
    "    print(cm)\n",
    "\n",
    "    plt.imshow(cm, interpolation='nearest', cmap=cmap)\n",
    "    plt.title(title)\n",
    "    plt.colorbar()\n",
    "    tick_marks = np.arange(len(classes))\n",
    "    plt.xticks(tick_marks, classes, rotation=45)\n",
    "    plt.yticks(tick_marks, classes)\n",
    "\n",
    "    fmt = '.2f' if normalize else 'd'\n",
    "    thresh = cm.max() / 2.\n",
    "    for i, j in itertools.product(range(cm.shape[0]), range(cm.shape[1])):\n",
    "        plt.text(j, i, format(cm[i, j], fmt),\n",
    "                 horizontalalignment=\"center\",\n",
    "                 color=\"white\" if cm[i, j] > thresh else \"black\")\n",
    "\n",
    "    plt.tight_layout()\n",
    "    plt.ylabel('True label')\n",
    "    plt.xlabel('Predicted label')\n"
   ]
  },
  {
   "cell_type": "code",
   "execution_count": null,
   "metadata": {
    "collapsed": true
   },
   "outputs": [],
   "source": [
    "# Compute confusion matrix\n",
    "cnf_matrix = confusion_matrix(y_test, y_uppred)\n",
    "np.set_printoptions(precision=2)\n",
    "\n",
    "plt.figure()\n",
    "plot_confusion_matrix(cnf_matrix, classes= ['1','2','3','4','5'],\n",
    "                      title='Confusion matrix')\n",
    "\n",
    "plt.show()"
   ]
  },
  {
   "cell_type": "markdown",
   "metadata": {},
   "source": [
    "## 3.3. Classificaiton with review picking\n"
   ]
  },
  {
   "cell_type": "markdown",
   "metadata": {},
   "source": [
    "### Aproach 1:\n",
    "It depends on what stakeholders expect from this analysis. One can simply make a data set of 3 classes, like combining rate 1,2 reviews (as bad reviews), rate 3 (neutral), rate 4,5 (as good reviews). It helps partially to overcome imbalanced data."
   ]
  },
  {
   "cell_type": "code",
   "execution_count": 10,
   "metadata": {},
   "outputs": [
    {
     "data": {
      "text/html": [
       "<div>\n",
       "<style scoped>\n",
       "    .dataframe tbody tr th:only-of-type {\n",
       "        vertical-align: middle;\n",
       "    }\n",
       "\n",
       "    .dataframe tbody tr th {\n",
       "        vertical-align: top;\n",
       "    }\n",
       "\n",
       "    .dataframe thead th {\n",
       "        text-align: right;\n",
       "    }\n",
       "</style>\n",
       "<table border=\"1\" class=\"dataframe\">\n",
       "  <thead>\n",
       "    <tr style=\"text-align: right;\">\n",
       "      <th></th>\n",
       "      <th>Unnamed: 0</th>\n",
       "      <th>StarRating</th>\n",
       "      <th>Title</th>\n",
       "      <th>Body</th>\n",
       "      <th>NewRating</th>\n",
       "    </tr>\n",
       "  </thead>\n",
       "  <tbody>\n",
       "    <tr>\n",
       "      <th>0</th>\n",
       "      <td>0</td>\n",
       "      <td>5</td>\n",
       "      <td>Rebtel makes it simple  and easy to…</td>\n",
       "      <td>Rebtel makes it simple  and easy to make calls...</td>\n",
       "      <td>3</td>\n",
       "    </tr>\n",
       "    <tr>\n",
       "      <th>1</th>\n",
       "      <td>1</td>\n",
       "      <td>5</td>\n",
       "      <td>Very good service</td>\n",
       "      <td>Very good service. Cheap calls, good quality s...</td>\n",
       "      <td>3</td>\n",
       "    </tr>\n",
       "    <tr>\n",
       "      <th>2</th>\n",
       "      <td>2</td>\n",
       "      <td>2</td>\n",
       "      <td>Ive used this app for a few months but…</td>\n",
       "      <td>Ive used this app for a few months but then mo...</td>\n",
       "      <td>1</td>\n",
       "    </tr>\n",
       "    <tr>\n",
       "      <th>3</th>\n",
       "      <td>3</td>\n",
       "      <td>5</td>\n",
       "      <td>Cheap calls to My Mum in Malta</td>\n",
       "      <td>I am using this service to ring my mum in Malt...</td>\n",
       "      <td>3</td>\n",
       "    </tr>\n",
       "    <tr>\n",
       "      <th>4</th>\n",
       "      <td>4</td>\n",
       "      <td>5</td>\n",
       "      <td>God price and a god sound.</td>\n",
       "      <td>God price and a god sound.</td>\n",
       "      <td>3</td>\n",
       "    </tr>\n",
       "  </tbody>\n",
       "</table>\n",
       "</div>"
      ],
      "text/plain": [
       "   Unnamed: 0  StarRating                                    Title  \\\n",
       "0           0           5     Rebtel makes it simple  and easy to…   \n",
       "1           1           5                        Very good service   \n",
       "2           2           2  Ive used this app for a few months but…   \n",
       "3           3           5           Cheap calls to My Mum in Malta   \n",
       "4           4           5               God price and a god sound.   \n",
       "\n",
       "                                                Body  NewRating  \n",
       "0  Rebtel makes it simple  and easy to make calls...          3  \n",
       "1  Very good service. Cheap calls, good quality s...          3  \n",
       "2  Ive used this app for a few months but then mo...          1  \n",
       "3  I am using this service to ring my mum in Malt...          3  \n",
       "4                         God price and a god sound.          3  "
      ]
     },
     "execution_count": 10,
     "metadata": {},
     "output_type": "execute_result"
    }
   ],
   "source": [
    "df_updated_3 = df\n",
    "df_updated_3['NewRating'] = df['StarRating'].replace([1,2,3,4,5],[1,1,2,3,3])\n",
    "df_updated_3.head()"
   ]
  },
  {
   "cell_type": "markdown",
   "metadata": {},
   "source": [
    "The new distribution of classes."
   ]
  },
  {
   "cell_type": "code",
   "execution_count": 15,
   "metadata": {},
   "outputs": [
    {
     "data": {
      "text/plain": [
       "<matplotlib.axes._subplots.AxesSubplot at 0x11c86dfd0>"
      ]
     },
     "execution_count": 15,
     "metadata": {},
     "output_type": "execute_result"
    },
    {
     "data": {
      "image/png": "[encoded data removed]",
      "text/plain": [
       "<Figure size 576x432 with 1 Axes>"
      ]
     },
     "metadata": {},
     "output_type": "display_data"
    }
   ],
   "source": [
    "Newdf_updated_3 = df_updated_3[['Title','Body']].copy()\n",
    "X_updated_3 = Stop_word(Newdf_updated_3)\n",
    "y_updated_3 = df_updated_3.iloc[:,-1].values\n",
    "plt.figure(figsize=(8, 6))\n",
    "plt.style.use('bmh')\n",
    "sns.countplot(x='NewRating', data=df_updated_3)"
   ]
  },
  {
   "cell_type": "code",
   "execution_count": 17,
   "metadata": {},
   "outputs": [
    {
     "ename": "AttributeError",
     "evalue": "'list' object has no attribute 'head'",
     "output_type": "error",
     "traceback": [
      "\u001b[0;31m---------------------------------------------------------------------------\u001b[0m",
      "\u001b[0;31mAttributeError\u001b[0m                            Traceback (most recent call last)",
      "\u001b[0;32m<ipython-input-17-d2eda4df070c>\u001b[0m in \u001b[0;36m<module>\u001b[0;34m()\u001b[0m\n\u001b[1;32m      1\u001b[0m \u001b[0;31m#X_updated_3.describe()\u001b[0m\u001b[0;34m\u001b[0m\u001b[0;34m\u001b[0m\u001b[0m\n\u001b[0;32m----> 2\u001b[0;31m \u001b[0mX_updated_3\u001b[0m\u001b[0;34m.\u001b[0m\u001b[0mhead\u001b[0m\u001b[0;34m(\u001b[0m\u001b[0;34m)\u001b[0m\u001b[0;34m\u001b[0m\u001b[0m\n\u001b[0m",
      "\u001b[0;31mAttributeError\u001b[0m: 'list' object has no attribute 'head'"
     ]
    }
   ],
   "source": [
    "#X_updated_3.describe()\n",
    "X_updated_3.head()"
   ]
  },
  {
   "cell_type": "markdown",
   "metadata": {},
   "source": [
    "With combination of up-down sampling with SMOTETomek"
   ]
  },
  {
   "cell_type": "code",
   "execution_count": 305,
   "metadata": {},
   "outputs": [
    {
     "name": "stdout",
     "output_type": "stream",
     "text": [
      "Performing grid search...\n",
      "('pipeline:', ['vect', 'tfidf', 'smote', 'clf'])\n",
      "parameters:\n",
      "{'vect__ngram_range': [(1, 1), (1, 2)], 'vect__max_df': (0.5, 0.75, 1.0), 'clf__loss': ('log', 'modified_huber', 'hinge'), 'tfidf__use_idf': (True, False), 'clf__penalty': ('l2', 'elasticnet'), 'clf__class_weight': (None, 'balanced'), 'clf__alpha': (1e-05, 1e-06)}\n",
      "Fitting 5 folds for each of 288 candidates, totalling 1440 fits\n"
     ]
    },
    {
     "name": "stderr",
     "output_type": "stream",
     "text": [
      "[Parallel(n_jobs=-1)]: Done  34 tasks      | elapsed:   16.2s\n",
      "[Parallel(n_jobs=-1)]: Done 184 tasks      | elapsed:  1.3min\n",
      "[Parallel(n_jobs=-1)]: Done 434 tasks      | elapsed:  3.1min\n",
      "[Parallel(n_jobs=-1)]: Done 784 tasks      | elapsed:  5.5min\n",
      "[Parallel(n_jobs=-1)]: Done 1234 tasks      | elapsed:  8.6min\n",
      "[Parallel(n_jobs=-1)]: Done 1440 out of 1440 | elapsed: 10.0min finished\n"
     ]
    },
    {
     "name": "stdout",
     "output_type": "stream",
     "text": [
      "done in 602.147s\n",
      "()\n",
      "Best score: 0.807\n",
      "Best parameters set:\n",
      "\tclf__alpha: 1e-05\n",
      "\tclf__class_weight: 'balanced'\n",
      "\tclf__loss: 'hinge'\n",
      "\tclf__penalty: 'l2'\n",
      "\ttfidf__use_idf: True\n",
      "\tvect__max_df: 0.5\n",
      "\tvect__ngram_range: (1, 1)\n",
      "Fitting 5 folds for each of 288 candidates, totalling 1440 fits\n"
     ]
    },
    {
     "name": "stderr",
     "output_type": "stream",
     "text": [
      "[Parallel(n_jobs=-1)]: Done  34 tasks      | elapsed:   10.5s\n",
      "[Parallel(n_jobs=-1)]: Done 184 tasks      | elapsed:   49.6s\n",
      "[Parallel(n_jobs=-1)]: Done 434 tasks      | elapsed:  1.9min\n",
      "[Parallel(n_jobs=-1)]: Done 784 tasks      | elapsed:  3.5min\n",
      "[Parallel(n_jobs=-1)]: Done 1234 tasks      | elapsed:  5.5min\n",
      "[Parallel(n_jobs=-1)]: Done 1440 out of 1440 | elapsed:  6.4min finished\n"
     ]
    },
    {
     "name": "stdout",
     "output_type": "stream",
     "text": [
      "Fitting 5 folds for each of 288 candidates, totalling 1440 fits\n"
     ]
    },
    {
     "name": "stderr",
     "output_type": "stream",
     "text": [
      "[Parallel(n_jobs=-1)]: Done  34 tasks      | elapsed:   10.6s\n",
      "[Parallel(n_jobs=-1)]: Done 184 tasks      | elapsed:   49.8s\n",
      "[Parallel(n_jobs=-1)]: Done 434 tasks      | elapsed:  2.0min\n",
      "[Parallel(n_jobs=-1)]: Done 784 tasks      | elapsed:  3.5min\n",
      "[Parallel(n_jobs=-1)]: Done 1234 tasks      | elapsed:  5.5min\n",
      "[Parallel(n_jobs=-1)]: Done 1440 out of 1440 | elapsed:  6.4min finished\n"
     ]
    },
    {
     "name": "stdout",
     "output_type": "stream",
     "text": [
      "Fitting 5 folds for each of 288 candidates, totalling 1440 fits\n"
     ]
    },
    {
     "name": "stderr",
     "output_type": "stream",
     "text": [
      "[Parallel(n_jobs=-1)]: Done  34 tasks      | elapsed:   10.5s\n",
      "[Parallel(n_jobs=-1)]: Done 184 tasks      | elapsed:   50.1s\n",
      "[Parallel(n_jobs=-1)]: Done 434 tasks      | elapsed:  2.0min\n",
      "[Parallel(n_jobs=-1)]: Done 784 tasks      | elapsed:  3.5min\n",
      "[Parallel(n_jobs=-1)]: Done 1234 tasks      | elapsed:  5.5min\n",
      "[Parallel(n_jobs=-1)]: Done 1440 out of 1440 | elapsed:  6.4min finished\n"
     ]
    },
    {
     "name": "stdout",
     "output_type": "stream",
     "text": [
      "[-0.29 -0.31 -0.31]\n",
      "The accuracy score of 0.805352798054\n",
      "Confusion Matrix:\n",
      "[[150   8  50]\n",
      " [ 15  12  50]\n",
      " [ 27  10 500]]\n",
      "0.805352798054\n",
      "             precision    recall  f1-score   support\n",
      "\n",
      "          1       0.78      0.72      0.75       208\n",
      "          2       0.40      0.16      0.22        77\n",
      "          3       0.83      0.93      0.88       537\n",
      "\n",
      "avg / total       0.78      0.81      0.79       822\n",
      "\n"
     ]
    }
   ],
   "source": [
    "y_test_up3, y_pred_up3 = HyperParamSGD_sampled(X_updated_3,y_updated_3)"
   ]
  },
  {
   "cell_type": "markdown",
   "metadata": {},
   "source": [
    "### Visualizing the embeddings"
   ]
  },
  {
   "cell_type": "code",
   "execution_count": 20,
   "metadata": {},
   "outputs": [],
   "source": [
    "from sklearn.model_selection import train_test_split\n",
    "from sklearn.feature_extraction.text import CountVectorizer, TfidfVectorizer\n",
    "\n",
    "def cv(data):\n",
    "    count_vectorizer = CountVectorizer()\n",
    "\n",
    "    emb = count_vectorizer.fit_transform(data)\n",
    "\n",
    "    return emb, count_vectorizer\n",
    "\n",
    "list_corpus = X_updated_3\n",
    "list_labels = y_updated_3\n",
    "\n",
    "X_train, X_test, y_train, y_test = train_test_split(list_corpus, list_labels, test_size=0.2, \n",
    "                                                                                random_state=40)\n",
    "\n",
    "X_train_counts, count_vectorizer = cv(X_train)\n",
    "X_test_counts = count_vectorizer.transform(X_test)"
   ]
  },
  {
   "cell_type": "code",
   "execution_count": 22,
   "metadata": {},
   "outputs": [
    {
     "data": {
      "image/png": "[encoded data removed]",
      "text/plain": [
       "<Figure size 1152x1152 with 1 Axes>"
      ]
     },
     "metadata": {},
     "output_type": "display_data"
    }
   ],
   "source": [
    "def plot_LSA(test_data, test_labels, savepath=\"PCA_demo.csv\", plot=True):\n",
    "        lsa = TruncatedSVD(n_components=2)\n",
    "        lsa.fit(test_data)\n",
    "        lsa_scores = lsa.transform(test_data)\n",
    "        color_mapper = {label:idx for idx,label in enumerate(set(test_labels))}\n",
    "        color_column = [color_mapper[label] for label in test_labels]\n",
    "        colors = ['orange','blue','red']\n",
    "        if plot:\n",
    "            plt.scatter(lsa_scores[:,0], lsa_scores[:,1], s=8, alpha=.8, c=test_labels, cmap=matplotlib.colors.ListedColormap(colors))\n",
    "            orange_patch = mpatches.Patch(color='orange', label='1')\n",
    "            green_patch = mpatches.Patch(color='blue', label='2')\n",
    "            red_patch = mpatches.Patch(color='red', label='3')\n",
    "            plt.legend(handles=[orange_patch, green_patch, red_patch], prop={'size': 30})\n",
    "\n",
    "\n",
    "fig = plt.figure(figsize=(16, 16))          \n",
    "plot_LSA(X_train_counts, y_train)\n",
    "plt.show()"
   ]
  },
  {
   "cell_type": "markdown",
   "metadata": {},
   "source": [
    "#### Confusion matrix"
   ]
  },
  {
   "cell_type": "code",
   "execution_count": 454,
   "metadata": {},
   "outputs": [
    {
     "name": "stdout",
     "output_type": "stream",
     "text": [
      "Confusion matrix, without normalization\n",
      "[[150   8  50]\n",
      " [ 15  12  50]\n",
      " [ 27  10 500]]\n"
     ]
    },
    {
     "data": {
      "image/png": "[encoded data removed]",
      "text/plain": [
       "<matplotlib.figure.Figure at 0x11e297490>"
      ]
     },
     "metadata": {},
     "output_type": "display_data"
    }
   ],
   "source": [
    "# Compute confusion matrix\n",
    "cnf_matrix = confusion_matrix(y_test_up3, y_pred_up3)\n",
    "np.set_printoptions(precision=2)\n",
    "\n",
    "plt.figure()\n",
    "plot_confusion_matrix(cnf_matrix, classes= ['1','2','3'],\n",
    "                      title='Confusion matrix')\n",
    "\n",
    "plt.show()"
   ]
  },
  {
   "cell_type": "markdown",
   "metadata": {},
   "source": [
    "####  Down-sampling with TomekLinks"
   ]
  },
  {
   "cell_type": "markdown",
   "metadata": {},
   "source": [
    "#### Grid search over hyper parameters with down-sampled data"
   ]
  },
  {
   "cell_type": "code",
   "execution_count": 5,
   "metadata": {
    "collapsed": true
   },
   "outputs": [],
   "source": [
    "from imblearn.under_sampling import RandomUnderSampler\n",
    "from imblearn.over_sampling import RandomOverSampler\n",
    "from imblearn.pipeline import Pipeline\n",
    "from imblearn import pipeline as pl\n",
    "from imblearn import over_sampling as os\n",
    "from imblearn.under_sampling import TomekLinks\n",
    "\n",
    "\n",
    "def HyperParamGSUN(X,y):\n",
    "    X_train, X_test, y_train, y_test = train_test_split(X, y, test_size = 0.30, random_state = 0)\n",
    "    ros = TomekLinks()\n",
    "    pipeline = Pipeline([\n",
    "               ('vect', CountVectorizer() ),\n",
    "               ('tfidf', TfidfTransformer()),\n",
    "               ('OvSam', ros),\n",
    "               ('clf', SGDClassifier(max_iter=1000, tol = 0)),\n",
    "                ])\n",
    "\n",
    "    parameters = {\n",
    "              'vect__max_df': (0.5, 0.75, 1.0),\n",
    "              'vect__ngram_range': [(1,1), (1,2)],\n",
    "              #'tfidf__norm': ('l1', 'l2', None),\n",
    "              'tfidf__use_idf': (True, False),\n",
    "              'clf__loss': ('log','modified_huber','hinge'),\n",
    "              'clf__penalty':('l2','elasticnet'),\n",
    "              'clf__alpha': (0.00001, 0.000001),\n",
    "              'clf__class_weight': (None, 'balanced'),\n",
    "             }\n",
    "\n",
    "    gs_clf = GridSearchCV(estimator=pipeline, param_grid=parameters, \n",
    "                          n_jobs=-1, verbose=1, cv = 5)\n",
    "    \n",
    "    print(\"Performing grid search...\")\n",
    "    print(\"pipeline:\", [name for name, _ in pipeline.steps])\n",
    "    print(\"parameters:\")\n",
    "    print(parameters)\n",
    "    t0 = time()\n",
    "    gs_clf.fit(X_train, y_train)\n",
    "    print(\"done in %0.3fs\" % (time() - t0))\n",
    "    print()\n",
    "    print(\"Best score: %0.3f\" % gs_clf.best_score_)\n",
    "    print(\"Best parameters set:\")\n",
    "    best_parameters = gs_clf.best_estimator_.get_params()\n",
    "    for param_name in sorted(parameters.keys()):\n",
    "        print(\"\\t%s: %r\" % (param_name, best_parameters[param_name]))    \n",
    "        #### Cross-validation to check the test set error rate\n",
    "    scores = cross_val_score(gs_clf, X_train, y_train, scoring='neg_mean_absolute_error')\n",
    "    print(scores)\n",
    "    ## Predicting the test set results\n",
    "    y_pred = gs_clf.predict(X_test)\n",
    "    \n",
    "    print(\"The accuracy score of {0}\".format(accuracy_score(y_test, y_pred)))\n",
    "    print ('Confusion Matrix:')\n",
    "    print (confusion_matrix(y_test, y_pred))\n",
    "    print (accuracy_score(y_test, y_pred))\n",
    "    print (classification_report(y_test, y_pred))\n",
    "    \n",
    "    return y_test, y_pred\n"
   ]
  },
  {
   "cell_type": "code",
   "execution_count": 10,
   "metadata": {},
   "outputs": [
    {
     "ename": "TypeError",
     "evalue": "All intermediate steps should be transformers and implement fit and transform. 'TomekLinks(n_jobs=1, random_state=None, ratio='majority',\n      return_indices=False)' (type <class 'imblearn.under_sampling.prototype_selection.tomek_links.TomekLinks'>) doesn't",
     "output_type": "error",
     "traceback": [
      "\u001b[0;31m---------------------------------------------------------------------------\u001b[0m",
      "\u001b[0;31mTypeError\u001b[0m                                 Traceback (most recent call last)",
      "\u001b[0;32m<ipython-input-10-4aaefd97d1b7>\u001b[0m in \u001b[0;36m<module>\u001b[0;34m()\u001b[0m\n\u001b[1;32m      2\u001b[0m \u001b[0mX_updated_3\u001b[0m \u001b[0;34m=\u001b[0m \u001b[0mStop_word\u001b[0m\u001b[0;34m(\u001b[0m\u001b[0mNewdf_updated_3\u001b[0m\u001b[0;34m)\u001b[0m\u001b[0;34m\u001b[0m\u001b[0m\n\u001b[1;32m      3\u001b[0m \u001b[0my_updated_3\u001b[0m \u001b[0;34m=\u001b[0m \u001b[0mdf_updated_3\u001b[0m\u001b[0;34m.\u001b[0m\u001b[0miloc\u001b[0m\u001b[0;34m[\u001b[0m\u001b[0;34m:\u001b[0m\u001b[0;34m,\u001b[0m\u001b[0;34m-\u001b[0m\u001b[0;36m1\u001b[0m\u001b[0;34m]\u001b[0m\u001b[0;34m.\u001b[0m\u001b[0mvalues\u001b[0m\u001b[0;34m\u001b[0m\u001b[0m\n\u001b[0;32m----> 4\u001b[0;31m \u001b[0my_un_test\u001b[0m\u001b[0;34m,\u001b[0m \u001b[0my_un_pred\u001b[0m \u001b[0;34m=\u001b[0m \u001b[0mHyperParamGSUN\u001b[0m\u001b[0;34m(\u001b[0m\u001b[0mX_updated_3\u001b[0m\u001b[0;34m,\u001b[0m\u001b[0my_updated_3\u001b[0m\u001b[0;34m)\u001b[0m\u001b[0;34m\u001b[0m\u001b[0m\n\u001b[0m",
      "\u001b[0;32m<ipython-input-5-e58a8e2a8138>\u001b[0m in \u001b[0;36mHyperParamGSUN\u001b[0;34m(X, y)\u001b[0m\n\u001b[1;32m     14\u001b[0m                \u001b[0;34m(\u001b[0m\u001b[0;34m'tfidf'\u001b[0m\u001b[0;34m,\u001b[0m \u001b[0mTfidfTransformer\u001b[0m\u001b[0;34m(\u001b[0m\u001b[0;34m)\u001b[0m\u001b[0;34m)\u001b[0m\u001b[0;34m,\u001b[0m\u001b[0;34m\u001b[0m\u001b[0m\n\u001b[1;32m     15\u001b[0m                \u001b[0;34m(\u001b[0m\u001b[0;34m'OvSam'\u001b[0m\u001b[0;34m,\u001b[0m \u001b[0mros\u001b[0m\u001b[0;34m)\u001b[0m\u001b[0;34m,\u001b[0m\u001b[0;34m\u001b[0m\u001b[0m\n\u001b[0;32m---> 16\u001b[0;31m                \u001b[0;34m(\u001b[0m\u001b[0;34m'clf'\u001b[0m\u001b[0;34m,\u001b[0m \u001b[0mSGDClassifier\u001b[0m\u001b[0;34m(\u001b[0m\u001b[0mmax_iter\u001b[0m\u001b[0;34m=\u001b[0m\u001b[0;36m1000\u001b[0m\u001b[0;34m,\u001b[0m \u001b[0mtol\u001b[0m \u001b[0;34m=\u001b[0m \u001b[0;36m0\u001b[0m\u001b[0;34m)\u001b[0m\u001b[0;34m)\u001b[0m\u001b[0;34m,\u001b[0m\u001b[0;34m\u001b[0m\u001b[0m\n\u001b[0m\u001b[1;32m     17\u001b[0m                 ])\n\u001b[1;32m     18\u001b[0m \u001b[0;34m\u001b[0m\u001b[0m\n",
      "\u001b[0;32m/Users/mojtaba/anaconda2/lib/python2.7/site-packages/sklearn/pipeline.pyc\u001b[0m in \u001b[0;36m__init__\u001b[0;34m(self, steps, memory)\u001b[0m\n\u001b[1;32m    112\u001b[0m     \u001b[0;32mdef\u001b[0m \u001b[0m__init__\u001b[0m\u001b[0;34m(\u001b[0m\u001b[0mself\u001b[0m\u001b[0;34m,\u001b[0m \u001b[0msteps\u001b[0m\u001b[0;34m,\u001b[0m \u001b[0mmemory\u001b[0m\u001b[0;34m=\u001b[0m\u001b[0mNone\u001b[0m\u001b[0;34m)\u001b[0m\u001b[0;34m:\u001b[0m\u001b[0;34m\u001b[0m\u001b[0m\n\u001b[1;32m    113\u001b[0m         \u001b[0mself\u001b[0m\u001b[0;34m.\u001b[0m\u001b[0msteps\u001b[0m \u001b[0;34m=\u001b[0m \u001b[0msteps\u001b[0m\u001b[0;34m\u001b[0m\u001b[0m\n\u001b[0;32m--> 114\u001b[0;31m         \u001b[0mself\u001b[0m\u001b[0;34m.\u001b[0m\u001b[0m_validate_steps\u001b[0m\u001b[0;34m(\u001b[0m\u001b[0;34m)\u001b[0m\u001b[0;34m\u001b[0m\u001b[0m\n\u001b[0m\u001b[1;32m    115\u001b[0m         \u001b[0mself\u001b[0m\u001b[0;34m.\u001b[0m\u001b[0mmemory\u001b[0m \u001b[0;34m=\u001b[0m \u001b[0mmemory\u001b[0m\u001b[0;34m\u001b[0m\u001b[0m\n\u001b[1;32m    116\u001b[0m \u001b[0;34m\u001b[0m\u001b[0m\n",
      "\u001b[0;32m/Users/mojtaba/anaconda2/lib/python2.7/site-packages/sklearn/pipeline.pyc\u001b[0m in \u001b[0;36m_validate_steps\u001b[0;34m(self)\u001b[0m\n\u001b[1;32m    160\u001b[0m                 raise TypeError(\"All intermediate steps should be \"\n\u001b[1;32m    161\u001b[0m                                 \u001b[0;34m\"transformers and implement fit and transform.\"\u001b[0m\u001b[0;34m\u001b[0m\u001b[0m\n\u001b[0;32m--> 162\u001b[0;31m                                 \" '%s' (type %s) doesn't\" % (t, type(t)))\n\u001b[0m\u001b[1;32m    163\u001b[0m \u001b[0;34m\u001b[0m\u001b[0m\n\u001b[1;32m    164\u001b[0m         \u001b[0;31m# We allow last estimator to be None as an identity transformation\u001b[0m\u001b[0;34m\u001b[0m\u001b[0;34m\u001b[0m\u001b[0m\n",
      "\u001b[0;31mTypeError\u001b[0m: All intermediate steps should be transformers and implement fit and transform. 'TomekLinks(n_jobs=1, random_state=None, ratio='majority',\n      return_indices=False)' (type <class 'imblearn.under_sampling.prototype_selection.tomek_links.TomekLinks'>) doesn't"
     ]
    }
   ],
   "source": [
    "Newdf_updated_3 = df_updated_3[['Title','Body']].copy()\n",
    "X_updated_3 = Stop_word(Newdf_updated_3)\n",
    "y_updated_3 = df_updated_3.iloc[:,-1].values\n",
    "y_un_test, y_un_pred = HyperParamGSUN(X_updated_3,y_updated_3)\n"
   ]
  },
  {
   "cell_type": "code",
   "execution_count": 459,
   "metadata": {},
   "outputs": [
    {
     "name": "stdout",
     "output_type": "stream",
     "text": [
      "Confusion matrix, without normalization\n",
      "[[149   8  51]\n",
      " [ 19   8  50]\n",
      " [ 31   5 501]]\n"
     ]
    },
    {
     "data": {
      "image/png": "[encoded data removed]",
      "text/plain": [
       "<matplotlib.figure.Figure at 0x113e900d0>"
      ]
     },
     "metadata": {},
     "output_type": "display_data"
    }
   ],
   "source": [
    "# Compute confusion matrix\n",
    "cnf_matrix = confusion_matrix(y_un_test, y_un_pred)\n",
    "np.set_printoptions(precision=2)\n",
    "\n",
    "plt.figure()\n",
    "plot_confusion_matrix(cnf_matrix, classes= ['1','2','3'],\n",
    "                      title='Confusion matrix')\n",
    "plt.show()"
   ]
  },
  {
   "cell_type": "markdown",
   "metadata": {},
   "source": [
    "### Aproach 2:\n",
    "Sometimes it is important to know what are bad or good reviews. therefore, one can simply disregard rate 3 in reviews (as it is neutral), then combine rate 1,2 reviews (as bad reviews) and 4,5 reviews ( as good reviews)."
   ]
  },
  {
   "cell_type": "code",
   "execution_count": 20,
   "metadata": {},
   "outputs": [
    {
     "name": "stderr",
     "output_type": "stream",
     "text": [
      "C:\\Users\\51648\\AppData\\Local\\Continuum\\anaconda3\\lib\\site-packages\\ipykernel_launcher.py:2: SettingWithCopyWarning: \n",
      "A value is trying to be set on a copy of a slice from a DataFrame.\n",
      "Try using .loc[row_indexer,col_indexer] = value instead\n",
      "\n",
      "See the caveats in the documentation: http://pandas.pydata.org/pandas-docs/stable/indexing.html#indexing-view-versus-copy\n",
      "  \n"
     ]
    },
    {
     "data": {
      "text/html": [
       "<div>\n",
       "<style scoped>\n",
       "    .dataframe tbody tr th:only-of-type {\n",
       "        vertical-align: middle;\n",
       "    }\n",
       "\n",
       "    .dataframe tbody tr th {\n",
       "        vertical-align: top;\n",
       "    }\n",
       "\n",
       "    .dataframe thead th {\n",
       "        text-align: right;\n",
       "    }\n",
       "</style>\n",
       "<table border=\"1\" class=\"dataframe\">\n",
       "  <thead>\n",
       "    <tr style=\"text-align: right;\">\n",
       "      <th></th>\n",
       "      <th>Unnamed: 0</th>\n",
       "      <th>StarRating</th>\n",
       "      <th>Title</th>\n",
       "      <th>Body</th>\n",
       "      <th>NewRating</th>\n",
       "    </tr>\n",
       "  </thead>\n",
       "  <tbody>\n",
       "    <tr>\n",
       "      <th>0</th>\n",
       "      <td>0</td>\n",
       "      <td>5</td>\n",
       "      <td>Rebtel makes it simple  and easy to…</td>\n",
       "      <td>Rebtel makes it simple  and easy to make calls...</td>\n",
       "      <td>1</td>\n",
       "    </tr>\n",
       "    <tr>\n",
       "      <th>1</th>\n",
       "      <td>1</td>\n",
       "      <td>5</td>\n",
       "      <td>Very good service</td>\n",
       "      <td>Very good service. Cheap calls, good quality s...</td>\n",
       "      <td>1</td>\n",
       "    </tr>\n",
       "    <tr>\n",
       "      <th>2</th>\n",
       "      <td>2</td>\n",
       "      <td>2</td>\n",
       "      <td>Ive used this app for a few months but…</td>\n",
       "      <td>Ive used this app for a few months but then mo...</td>\n",
       "      <td>0</td>\n",
       "    </tr>\n",
       "    <tr>\n",
       "      <th>3</th>\n",
       "      <td>3</td>\n",
       "      <td>5</td>\n",
       "      <td>Cheap calls to My Mum in Malta</td>\n",
       "      <td>I am using this service to ring my mum in Malt...</td>\n",
       "      <td>1</td>\n",
       "    </tr>\n",
       "    <tr>\n",
       "      <th>4</th>\n",
       "      <td>4</td>\n",
       "      <td>5</td>\n",
       "      <td>God price and a god sound.</td>\n",
       "      <td>God price and a god sound.</td>\n",
       "      <td>1</td>\n",
       "    </tr>\n",
       "  </tbody>\n",
       "</table>\n",
       "</div>"
      ],
      "text/plain": [
       "   Unnamed: 0  StarRating                                    Title  \\\n",
       "0           0           5     Rebtel makes it simple  and easy to…   \n",
       "1           1           5                        Very good service   \n",
       "2           2           2  Ive used this app for a few months but…   \n",
       "3           3           5           Cheap calls to My Mum in Malta   \n",
       "4           4           5               God price and a god sound.   \n",
       "\n",
       "                                                Body  NewRating  \n",
       "0  Rebtel makes it simple  and easy to make calls...          1  \n",
       "1  Very good service. Cheap calls, good quality s...          1  \n",
       "2  Ive used this app for a few months but then mo...          0  \n",
       "3  I am using this service to ring my mum in Malt...          1  \n",
       "4                         God price and a god sound.          1  "
      ]
     },
     "execution_count": 20,
     "metadata": {},
     "output_type": "execute_result"
    }
   ],
   "source": [
    "df_updated = df.loc[df['StarRating'] != 3]\n",
    "df_updated['NewRating'] = df_updated['StarRating'].apply(lambda x: 1 if x > 3 else 0)\n",
    "df_updated.head()"
   ]
  },
  {
   "cell_type": "markdown",
   "metadata": {},
   "source": [
    "The new distribution of data with mentioned changes:"
   ]
  },
  {
   "cell_type": "code",
   "execution_count": 22,
   "metadata": {},
   "outputs": [
    {
     "data": {
      "text/plain": [
       "<matplotlib.axes._subplots.AxesSubplot at 0xd22d7b8>"
      ]
     },
     "execution_count": 22,
     "metadata": {},
     "output_type": "execute_result"
    },
    {
     "data": {
      "image/png": "[encoded data removed]",
      "text/plain": [
       "<Figure size 576x432 with 1 Axes>"
      ]
     },
     "metadata": {},
     "output_type": "display_data"
    }
   ],
   "source": [
    "import seaborn as sns\n",
    "NewDf_updated = df_updated[['Title','Body']].copy()\n",
    "X_updated = Stop_word(NewDf_updated)\n",
    "y_updated = df_updated.iloc[:,-1].values\n",
    "plt.figure(figsize=(8, 6))\n",
    "plt.style.use('bmh')\n",
    "sns.countplot(x='NewRating', data=df_updated)"
   ]
  },
  {
   "cell_type": "markdown",
   "metadata": {},
   "source": [
    "Training the model with balanced data (SMOTETomek) and testing with imbalanced data"
   ]
  },
  {
   "cell_type": "code",
   "execution_count": 26,
   "metadata": {},
   "outputs": [
    {
     "name": "stdout",
     "output_type": "stream",
     "text": [
      "Performing grid search...\n",
      "('pipeline:', ['vect', 'tfidf', 'smote', 'clf'])\n",
      "parameters:\n",
      "{'vect__ngram_range': [(1, 1), (1, 2)], 'vect__max_df': (0.5, 0.75, 1.0), 'clf__loss': ('log', 'modified_huber', 'hinge'), 'tfidf__use_idf': (True, False), 'clf__penalty': ('l2', 'elasticnet'), 'clf__class_weight': (None, 'balanced'), 'clf__alpha': (1e-05, 1e-06)}\n",
      "Fitting 5 folds for each of 288 candidates, totalling 1440 fits\n"
     ]
    },
    {
     "name": "stderr",
     "output_type": "stream",
     "text": [
      "[Parallel(n_jobs=-1)]: Done  42 tasks      | elapsed:   20.2s\n",
      "[Parallel(n_jobs=-1)]: Done 192 tasks      | elapsed:  1.3min\n",
      "[Parallel(n_jobs=-1)]: Done 442 tasks      | elapsed:  2.8min\n",
      "[Parallel(n_jobs=-1)]: Done 792 tasks      | elapsed:  4.9min\n",
      "[Parallel(n_jobs=-1)]: Done 1242 tasks      | elapsed:  7.7min\n",
      "[Parallel(n_jobs=-1)]: Done 1440 out of 1440 | elapsed:  8.9min finished\n"
     ]
    },
    {
     "name": "stdout",
     "output_type": "stream",
     "text": [
      "done in 534.625s\n",
      "()\n",
      "Best score: 0.896\n",
      "Best parameters set:\n",
      "\tclf__alpha: 1e-05\n",
      "\tclf__class_weight: 'balanced'\n",
      "\tclf__loss: 'log'\n",
      "\tclf__penalty: 'l2'\n",
      "\ttfidf__use_idf: False\n",
      "\tvect__max_df: 1.0\n",
      "\tvect__ngram_range: (1, 2)\n",
      "Fitting 5 folds for each of 288 candidates, totalling 1440 fits\n"
     ]
    },
    {
     "name": "stderr",
     "output_type": "stream",
     "text": [
      "[Parallel(n_jobs=-1)]: Done  42 tasks      | elapsed:   15.0s\n",
      "[Parallel(n_jobs=-1)]: Done 192 tasks      | elapsed:   48.1s\n",
      "[Parallel(n_jobs=-1)]: Done 442 tasks      | elapsed:  1.7min\n",
      "[Parallel(n_jobs=-1)]: Done 792 tasks      | elapsed:  3.0min\n",
      "[Parallel(n_jobs=-1)]: Done 1242 tasks      | elapsed:  4.5min\n",
      "[Parallel(n_jobs=-1)]: Done 1440 out of 1440 | elapsed:  5.3min finished\n"
     ]
    },
    {
     "name": "stdout",
     "output_type": "stream",
     "text": [
      "Fitting 5 folds for each of 288 candidates, totalling 1440 fits\n"
     ]
    },
    {
     "name": "stderr",
     "output_type": "stream",
     "text": [
      "[Parallel(n_jobs=-1)]: Done  42 tasks      | elapsed:   11.2s\n",
      "[Parallel(n_jobs=-1)]: Done 192 tasks      | elapsed:   43.5s\n",
      "[Parallel(n_jobs=-1)]: Done 442 tasks      | elapsed:  1.6min\n",
      "[Parallel(n_jobs=-1)]: Done 792 tasks      | elapsed:  2.7min\n",
      "[Parallel(n_jobs=-1)]: Done 1242 tasks      | elapsed:  4.3min\n",
      "[Parallel(n_jobs=-1)]: Done 1440 out of 1440 | elapsed:  5.0min finished\n"
     ]
    },
    {
     "name": "stdout",
     "output_type": "stream",
     "text": [
      "Fitting 5 folds for each of 288 candidates, totalling 1440 fits\n"
     ]
    },
    {
     "name": "stderr",
     "output_type": "stream",
     "text": [
      "[Parallel(n_jobs=-1)]: Done  42 tasks      | elapsed:   10.3s\n",
      "[Parallel(n_jobs=-1)]: Done 192 tasks      | elapsed:   51.2s\n",
      "[Parallel(n_jobs=-1)]: Done 442 tasks      | elapsed:  1.8min\n",
      "[Parallel(n_jobs=-1)]: Done 792 tasks      | elapsed:  3.2min\n",
      "[Parallel(n_jobs=-1)]: Done 1242 tasks      | elapsed:  4.9min\n",
      "[Parallel(n_jobs=-1)]: Done 1440 out of 1440 | elapsed:  5.8min finished\n"
     ]
    },
    {
     "name": "stdout",
     "output_type": "stream",
     "text": [
      "[-0.11896552 -0.0984456  -0.11226252]\n",
      "The accuracy score of 0.881879194631\n",
      "Confusion Matrix:\n",
      "[[151  46]\n",
      " [ 42 506]]\n",
      "0.8818791946308725\n",
      "             precision    recall  f1-score   support\n",
      "\n",
      "          0       0.78      0.77      0.77       197\n",
      "          1       0.92      0.92      0.92       548\n",
      "\n",
      "avg / total       0.88      0.88      0.88       745\n",
      "\n"
     ]
    }
   ],
   "source": [
    "y_test_up, y_pred_up = HyperParamSGD_sampled(X_updated,y_updated)"
   ]
  },
  {
   "cell_type": "code",
   "execution_count": 30,
   "metadata": {},
   "outputs": [
    {
     "name": "stdout",
     "output_type": "stream",
     "text": [
      "Confusion matrix, without normalization\n",
      "[[151  46]\n",
      " [ 42 506]]\n"
     ]
    },
    {
     "data": {
      "image/png": "[encoded data removed]",
      "text/plain": [
       "<Figure size 432x288 with 2 Axes>"
      ]
     },
     "metadata": {},
     "output_type": "display_data"
    }
   ],
   "source": [
    "# Compute confusion matrix\n",
    "import numpy as np\n",
    "cnf_matrix = confusion_matrix(y_test_up, y_pred_up)\n",
    "np.set_printoptions(precision=2)\n",
    "\n",
    "plt.figure()\n",
    "plot_confusion_matrix(cnf_matrix, classes= ['1','2'],\n",
    "                      title='Confusion matrix')\n",
    "plt.show()"
   ]
  },
  {
   "cell_type": "markdown",
   "metadata": {},
   "source": [
    "#### Confusion matrix"
   ]
  },
  {
   "cell_type": "code",
   "execution_count": 31,
   "metadata": {},
   "outputs": [
    {
     "data": {
      "image/png": "[encoded data removed]",
      "text/plain": [
       "<Figure size 576x432 with 1 Axes>"
      ]
     },
     "metadata": {},
     "output_type": "display_data"
    }
   ],
   "source": [
    "# Compute ROC curve and ROC area for each class\n",
    "from sklearn.metrics import roc_curve, auc\n",
    "import matplotlib.pyplot as plt\n",
    "\n",
    "\n",
    "# Compute ROC curve and ROC area for each class\n",
    "fpr, tpr, thresholds = roc_curve(y_test_up, y_pred_up)\n",
    "roc_auc = auc(fpr, tpr)\n",
    "plt.figure(figsize=(8,6))\n",
    "lw = 2\n",
    "plt.plot(fpr, tpr, color='red', lw=lw, label='ROC curve (area = %0.2f)' % roc_auc)\n",
    "plt.plot([0, 1], [0, 1], color='black', lw=lw, linestyle='--')\n",
    "plt.xlim([0.0, 1.0])\n",
    "plt.ylim([0.0, 1.0])\n",
    "plt.xlabel('True Negative Rate')\n",
    "plt.ylabel('True Positive Rate')\n",
    "plt.legend(loc=\"lower right\")\n",
    "plt.show()\n",
    "\n",
    "\n"
   ]
  },
  {
   "cell_type": "markdown",
   "metadata": {},
   "source": [
    "Since the data is imbalanced, it is better to change the metric to g-mean"
   ]
  },
  {
   "cell_type": "code",
   "execution_count": 32,
   "metadata": {},
   "outputs": [
    {
     "name": "stdout",
     "output_type": "stream",
     "text": [
      "The geometric mean is 0.841279564763\n"
     ]
    }
   ],
   "source": [
    "from imblearn.metrics import (geometric_mean_score,\n",
    "                              make_index_balanced_accuracy)\n",
    "print('The geometric mean is {}'.format(geometric_mean_score(\n",
    "    y_test_up, y_pred_up)))"
   ]
  }
 ],
 "metadata": {
  "kernelspec": {
   "display_name": "Python 3",
   "language": "python",
   "name": "python3"
  },
  "language_info": {
   "codemirror_mode": {
    "name": "ipython",
    "version": 2
   },
   "file_extension": ".py",
   "mimetype": "text/x-python",
   "name": "python",
   "nbconvert_exporter": "python",
   "pygments_lexer": "ipython2",
   "version": "2.7.14"
  }
 },
 "nbformat": 4,
 "nbformat_minor": 2
}
